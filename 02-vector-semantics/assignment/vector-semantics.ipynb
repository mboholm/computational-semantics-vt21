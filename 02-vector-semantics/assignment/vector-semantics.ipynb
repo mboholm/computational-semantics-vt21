{
 "cells": [
  {
   "cell_type": "markdown",
   "metadata": {},
   "source": [
    "Name: Max Boholm (no group)"
   ]
  },
  {
   "cell_type": "markdown",
   "metadata": {},
   "source": [
    "# A2: Vector Semantics\n",
    "\n",
    "Nikolai Ilinykh, Mehdi Ghanimifard, Wafia Adouane and Simon Dobnik\n",
    "\n",
    "The lab is an exploration and learning exercise to be done in a group and also in discussion with the teachers and other students.\n",
    "\n",
    "Before starting, please read [the following instructions](https://github.com/sdobnik/computational-semantics/blob/master/README.md) on how to work on group assignments.\n",
    "\n",
    "Write all your answers and the code in the appropriate boxes below.\n",
    "\n",
    "In this lab we will look at how to build distributional semantic models from corpora and use semantic similarity captured by these models to do semantic tasks. We are also going to examine how different vector composition functions for phrases affect both the model and the learned information about similarities.  \n",
    "\n",
    "Note that this lab uses a code from `dist_erk.py`, which contains functions that highly resemble those shown during the lecture. In the end, you can use either of the functions (from the lecture / from the file) to solve the tasks."
   ]
  },
  {
   "cell_type": "code",
   "execution_count": 1,
   "metadata": {},
   "outputs": [],
   "source": [
    "# the following command simply imports all the methods from that code.\n",
    "from dist_erk import *"
   ]
  },
  {
   "cell_type": "markdown",
   "metadata": {},
   "source": [
    "## 1. Loading a corpus\n",
    "\n",
    "To train a distributional model, we first need a sufficiently large collection of texts which contain different words used frequently enough in different contexts. Here we will use a section of the Wikipedia corpus which you can download from [here](https://linux.dobnik.net/cloud/index.php/s/isMBj49jt5renYt?path=%2Fresources%2Fa2-distributional-representations) (wikipedia.txt.zip). (This file has been borrowed from another lab by [Richard Johansson](http://www.cse.chalmers.se/~richajo/)).  \n",
    "When unpacked, the file is 151mb, hence if you are using the MLT servers you should store it in a temporary folder outside your home and adjust the `corpus_dir` path below.  \n",
    "<!-- <It may already exist in `/opt/mlt/courses/cl2015/a5`.> -->\n"
   ]
  },
  {
   "cell_type": "code",
   "execution_count": 2,
   "metadata": {},
   "outputs": [],
   "source": [
    "corpus_dir = \"/home/max/Documents/resources/wikipedia/\""
   ]
  },
  {
   "cell_type": "markdown",
   "metadata": {},
   "source": [
    "## 2. Building a model\n",
    "\n",
    "Now you are ready to build the model.  \n",
    "Using the methods from the code imported above build three word matrices with 1000 dimensions as follows:  \n",
    "\n",
    "(i) with raw counts (saved to a variable `space_1k`);  \n",
    "(ii) with PPMI (`ppmispace_1k`);  \n",
    "(iii) with reduced dimensions SVD (`svdspace_1k`).  \n",
    "For the latter use `svddim=5`. **[5 marks]**\n",
    "\n",
    "Your task is to replace `...` with function calls. Functions are imported from `dist_erk.py` earlier, and they largely resemble functions shown during the lecture."
   ]
  },
  {
   "cell_type": "code",
   "execution_count": 3,
   "metadata": {},
   "outputs": [
    {
     "name": "stdout",
     "output_type": "stream",
     "text": [
      "reading file wikipedia.txt\n",
      "create count matrices\n",
      "reading file wikipedia.txt\n",
      "ppmi transform\n",
      "svd transform\n",
      "done.\n"
     ]
    }
   ],
   "source": [
    "numdims = 1000\n",
    "svddim = 5\n",
    "\n",
    "# which words to use as targets and context words?\n",
    "# we need to count the words and keep only the N most frequent ones\n",
    "# which function would you use here with which variable?\n",
    "ktw = do_word_count(corpus_dir, numdims)\n",
    "\n",
    "mwi= make_word_index(ktw)\n",
    "#M.B. why we need these?\n",
    "wi = make_word_index(ktw).keys() # word index\n",
    "words_in_order = sorted(make_word_index(ktw).values()) # sorted words\n",
    "\n",
    "# create different spaces (the original matrix space, the ppmi space, the svd space)\n",
    "# which functions with which arguments would you use here?\n",
    "print('create count matrices')\n",
    "space_1k = make_space(corpus_dir, mwi, numdims)\n",
    "print('ppmi transform')\n",
    "ppmispace_1k = ppmi_transform(space_1k, mwi)\n",
    "print('svd transform')\n",
    "svdspace_1k = svd_transform(space_1k, numdims, svddim)\n",
    "print('done.')"
   ]
  },
  {
   "cell_type": "code",
   "execution_count": 4,
   "metadata": {},
   "outputs": [
    {
     "name": "stdout",
     "output_type": "stream",
     "text": [
      "house: [2554 3774 3105  567  962  631  443  185  311  189  131   28   93  169\n",
      "   81  125  151  408  194   90   79   29  217  184   62   15   31   70\n",
      "   10    1   41   21    1   31   37    1   30    5   25    7    3   20\n",
      "   11    1   32   36    2    5   66    4    0   46    8   18   28    0\n",
      "   20    7    8   16   10   40    0  175   10    2    7   19    1  174\n",
      "   11    3    1    6    0    0    0   10    9   11    7   24    4    4\n",
      "   14   23   58    7    0   10    2    3   10    6   18    6   13    3\n",
      "   22    0    3    5    3    7   14    3   40   20   19   15    6    8\n",
      "   24    4    5    1   19    0    3    1    0   14    0   14   53    7\n",
      "    7   11    6    5    5    4   12    6   53    1    1  433    4    0\n",
      "    5    7    7   12    1    1    3    4   17    8   16    1    2   31\n",
      "    1   12   14    1   44    6   14    9   38    7    2    6    8    1\n",
      "   10    6   10    1    9    7    9    4    3   10    0   11    3    2\n",
      "    0    2   11   37    2    0    2    1    5    9   10   16   88    6\n",
      "    0   21    1    1    0    2   47    3   27    7    0    2   13    1\n",
      "    2    0    5   31    0    1    0    3   10    0    1    0    3    3\n",
      "   17    1    1   16    3    7    4    7   15    4    0    0    2    5\n",
      "    0    2    0    5    0    9    0    0    8    0   10    0    0    0\n",
      "    2    0    1    3    1    3   15    1    9    0   19   14    0    0\n",
      "    3    2   18    3    1    3    2   19    5    2    4    1   10    6\n",
      "    0    3    3    6    4    2   25    4    6    3    1   25   10   15\n",
      "    3   10   15    1   10    1    8    1   13    1    2    9    9    1\n",
      "    4    1   25    0    4    6    5    5   36    0    2    2    2    0\n",
      "    0    2    3    3    0    1    4    6    5    0   50    2    5    2\n",
      "   14    6    2    2    4    1    9    4    5    3    1    0   12    3\n",
      "    3    2    2    0    0    1    4    7   12    5    0    2    1    2\n",
      "    3    4    7    3    5    0   29    7    1    1    0    3    3    3\n",
      "   10    0   14    2    0    2    4    6    0    5    0    0    1    1\n",
      "    4    1    1    0    0    0    0    3   20    0    0    2    1    5\n",
      "    3    8    3    5    1    2   66    1    2   19    2    1    3    3\n",
      "   21    5    4    2    2    0    4    3    5    0    7    1    6    1\n",
      "    3    3    1    0    3    0    2    0   89    2    3    1    1   14\n",
      "    0    2    1    9    2    3    2    4    2    0   25    0    0   23\n",
      "    0    6    2    1    3    0    2    5    0    4    4    3    0    4\n",
      "   58    3    1    6    2    4    3    3   11    1    1    1   10    0\n",
      "    7    3    1    6    1   18    1    0    4    2    0    8    5    2\n",
      "    0    0    0    0    5    1    2    1    1    3    1    2    1    1\n",
      "    0    6    1    4    1    3   20    1    0    5    2    5    2    1\n",
      "    0    0    0    2    6    1    1    0    1    1    1    0    0    3\n",
      "    3    0    0    6    6   74    3    0   13    5    2    2    1    5\n",
      "    3    3    1    7    4    0    0    2    3    0    4    0    4    1\n",
      "    0    2    5    2    1   14    2    0    0   19    0    1    2    1\n",
      "    0    3    2    0    0    3    1    3    3    2    7   18    7    6\n",
      "    6    0    1    9    1   10    2    0    2    0    2    4    0    0\n",
      "    1    2    0    1    0    2    0    0    0    2    1    2    2    0\n",
      "    3    2    2    0    0    1    2    3    1    1    1    2    0    0\n",
      "    3    0    7    2   39    0   14    0    1    1    0    1    5    3\n",
      "   11    0    3    0    1    1    0    0    1    9    2    1    0   11\n",
      "    1    3    7    0    0    0   32    1    0    0    0    1    1    3\n",
      "    0    9    0    2    0    1    3    2    6    0    3    0    0    2\n",
      "    3    0    1    0    1    4    0    0    1    1    0    0    5   21\n",
      "    2    1    1    3    0    1    7    1    3    4    0    5    3    0\n",
      "    7    2    0    4    2    0    2    1    4    4    0    0    0    5\n",
      "    3    2    2    0    4    0   23    2    2    2    4    0    1    0\n",
      "    4    0    3    5    3    0    8    0    1   16    1    2    2    7\n",
      "    0    0    1   11    1    0    4    0    1    0    1    2    1    5\n",
      "    0   97    0    2    0    3    0    8    1   14    4    9    2    3\n",
      "    1    1    0    3    4    0    5    1    5    2    0    0    0    2\n",
      "    1    2    1    1    1    1   12    0    2    5    1    0    0   13\n",
      "    2    0    0    0    2    2    0    0    3    1    1    1    1    0\n",
      "    1    2    1    0    0    0   10    0    1    0    1    1    1    1\n",
      "    0    1    0    0    3    2    5    0    0    2    1    0   23    0\n",
      "    0    4    0    1    0    0    0    1    1    2    1    0    1    0\n",
      "    0    4    1    0    1    1    5    1    1    0    1    0    0    0\n",
      "    1    0    0    2    2    3    0    1    0    4    3    3    1    4\n",
      "    0    0    0    6    1    2    1    0    5    3    0    0    1    2\n",
      "    0    5    0    0    2    1    1    4   15    0    0    1    1    3\n",
      "    1    0    1    4    1    1    2    8    1    3    0    0    0    0\n",
      "    1    3    2    1    0    1    0    2    0    0    0    0    1    1\n",
      "    0    1    3    7    0    0   42    4    0    1    2    3    1    0\n",
      "    1    3    2    0    0    4    0    0    0    4    2    0    0    8\n",
      "    2    0    1   15    0    0]\n"
     ]
    }
   ],
   "source": [
    "# now, to test the space, you can print vector representation for some words\n",
    "print('house:', space_1k['house'])"
   ]
  },
  {
   "cell_type": "markdown",
   "metadata": {},
   "source": [
    "Oxford Advanced Dictionary has 185,000 words, hence 1,000 words is not representative. We trained a model with 10,000 words, and 50 dimensions on truncated SVD. It took 40 minutes on a laptop. We saved all three matrices [here](https://linux.dobnik.net/cloud/index.php/s/isMBj49jt5renYt?path=%2Fresources%2Fa2-distributional-representations) (pretrained.zip). Download them and unpack them to a `pretrained` folder which should be a subfolder of the folder with this notebook:"
   ]
  },
  {
   "cell_type": "code",
   "execution_count": 5,
   "metadata": {},
   "outputs": [
    {
     "name": "stdout",
     "output_type": "stream",
     "text": [
      "Please wait...\n",
      "Done.\n"
     ]
    }
   ],
   "source": [
    "import numpy as np\n",
    "\n",
    "numdims = 10000\n",
    "svddim = 50\n",
    "\n",
    "print('Please wait...')\n",
    "ktw_10k       = np.load('./pretrained/ktw_wikipediaktw.npy', allow_pickle=True)\n",
    "space_10k     = np.load('./pretrained/raw_wikipediaktw.npy', allow_pickle=True).all()\n",
    "ppmispace_10k = np.load('./pretrained/ppmi_wikipediaktw.npy', allow_pickle=True).all()\n",
    "svdspace_10k  = np.load('./pretrained/svd50_wikipedia10k.npy', allow_pickle=True).all()\n",
    "print('Done.')\n"
   ]
  },
  {
   "cell_type": "code",
   "execution_count": 6,
   "metadata": {},
   "outputs": [
    {
     "name": "stdout",
     "output_type": "stream",
     "text": [
      "house: [2554 3774 3105 ...    0    0    0]\n"
     ]
    }
   ],
   "source": [
    "# testing semantic space\n",
    "print('house:', space_10k['house'])"
   ]
  },
  {
   "cell_type": "markdown",
   "metadata": {},
   "source": [
    "## 3. Testing semantic similarity\n",
    "\n",
    "The file `similarity_judgements.txt` (a copy is included with this notebook) contains 7,576 pairs of words and their lexical and visual similarities (based on the pictures) collected through crowd-sourcing using Mechanical Turk as described in [1]. The score range from 1 (highly dissimilar) to 5 (highly similar). Note: this is a different dataset from the phrase similarity dataset we discussed during the lecture (the one from [2]). For more information, please read the papers.\n",
    "\n",
    "The following code will transform similarity scores into a Python-friendly format:"
   ]
  },
  {
   "cell_type": "code",
   "execution_count": 7,
   "metadata": {},
   "outputs": [
    {
     "name": "stdout",
     "output_type": "stream",
     "text": [
      "number of available words to test: 12\n",
      "number of available word pairs to test: 774\n"
     ]
    }
   ],
   "source": [
    "word_pairs = [] # test suit word pairs\n",
    "semantic_similarity = [] \n",
    "visual_similarity = []\n",
    "test_vocab = set()\n",
    "\n",
    "for index, line in enumerate(open('similarity_judgements.txt')):\n",
    "    data = line.strip().split('\\t')\n",
    "    if index > 0 and len(data) == 3:\n",
    "        w1, w2 = tuple(data[0].split('#'))\n",
    "        # it will check if both words from each pair exist in the word matrix.\n",
    "        if w1 in ktw_10k and w2 in ktw_10k:\n",
    "            word_pairs.append((w1, w2))\n",
    "            test_vocab.update([w1, w2])\n",
    "            semantic_similarity.append(float(data[1]))\n",
    "            visual_similarity.append(float(data[2]))\n",
    "        \n",
    "print('number of available words to test:', len(test_vocab-(test_vocab-set(ktw))))\n",
    "print('number of available word pairs to test:', len(word_pairs))\n",
    "#list(zip(word_pairs, visual_similarity, semantic_similarity))"
   ]
  },
  {
   "cell_type": "markdown",
   "metadata": {},
   "source": [
    "Now we are going to test how the cosine similarity between vectors of each of the three spaces (normal space, ppmi, svd) compares with the human similarity judgements for the words in the similarity dataset. Which of the three spaces best approximates human judgements?\n",
    "\n",
    "For comparison of several scores, we can use [Spearman correlation coefficient](https://en.wikipedia.org/wiki/Spearman's_rank_correlation_coefficient) which is implemented in `scipy.stats.spearmanr` [here](https://docs.scipy.org/doc/scipy-0.19.0/reference/generated/scipy.stats.spearmanr.html). The values of the Sperman correlation coefficient range from -1, 0 to 1, where 0 indicates no correlation, 1 perfect correaltion and -1 negative correlation. Hence, the greater the number the better the similarity scores align. The p values tells us if the coefficient is statistically significant. For this to be the case, it must be less than or equal to $< 0.05$.\n",
    "\n",
    "Here is how you can calculate Pearson's correlation coefficient betweeen the scores of visual similarity and semantic similarity of the available words in the test suite:"
   ]
  },
  {
   "cell_type": "code",
   "execution_count": 8,
   "metadata": {},
   "outputs": [
    {
     "name": "stdout",
     "output_type": "stream",
     "text": [
      "Visual Similarity vs. Semantic Similarity:\n",
      "rho     = 0.7122\n",
      "p-value = 0.0000\n"
     ]
    }
   ],
   "source": [
    "from scipy import stats\n",
    "\n",
    "rho, pval = stats.spearmanr(semantic_similarity, visual_similarity)\n",
    "print(\"\"\"Visual Similarity vs. Semantic Similarity:\n",
    "rho     = {:.4f}\n",
    "p-value = {:.4f}\"\"\".format(rho, pval))\n"
   ]
  },
  {
   "cell_type": "markdown",
   "metadata": {},
   "source": [
    "Let's now calculate the cosine similarity scores of all word pairs in an ordered list using all three matrices. **[6 marks]**"
   ]
  },
  {
   "cell_type": "code",
   "execution_count": 9,
   "metadata": {},
   "outputs": [],
   "source": [
    "raw_similarities  = [cosine(w1, w2, space_10k) for w1, w2 in word_pairs]\n",
    "ppmi_similarities = [cosine(w1, w2, ppmispace_10k) for w1, w2 in word_pairs]\n",
    "svd_similarities  = [cosine(w1, w2, svdspace_10k) for w1, w2 in word_pairs]"
   ]
  },
  {
   "cell_type": "markdown",
   "metadata": {},
   "source": [
    "Now, calculate correlation coefficients between lists of similarity scores and the real semantic similarity scores from the experiment. The scores of what model best correlates them? Is this expected? **[6 marks]**"
   ]
  },
  {
   "cell_type": "code",
   "execution_count": 10,
   "metadata": {},
   "outputs": [
    {
     "name": "stdout",
     "output_type": "stream",
     "text": [
      "\trho\tp\n",
      "raw\t0.152\t0.0\n",
      "pmi\t0.455\t0.0\n",
      "svd\t0.423\t0.0\n"
     ]
    }
   ],
   "source": [
    "from scipy.stats import spearmanr as correlation\n",
    "\n",
    "experiment={}\n",
    "experiment[\"raw\"] = correlation(semantic_similarity,raw_similarities)\n",
    "experiment[\"pmi\"] = correlation(semantic_similarity,ppmi_similarities)\n",
    "experiment[\"svd\"] = correlation(semantic_similarity,svd_similarities)\n",
    "\n",
    "print(\"\\trho\\tp\")\n",
    "for condition in [\"raw\", \"pmi\", \"svd\"]:\n",
    "    print(\"{}\\t{}\\t{}\".format(condition, round(experiment[condition][0], 3), round(experiment[condition][1], 3)))"
   ]
  },
  {
   "cell_type": "markdown",
   "metadata": {},
   "source": [
    "**Your answer should go here:**\n",
    "The experiment tells us:\n",
    "\n",
    "1. There is a positive correlation between the judgments and all three distributional models. \n",
    "2. All correlations are signifiant at 0.001 level.\n",
    "3. The raw representation performs worst.\n",
    "4. The PMI and SVD representations performs close to equally well; PMI model is 0.032 better.\n",
    "\n",
    "It is expected that the normalised models perform better than the raw count model. "
   ]
  },
  {
   "cell_type": "markdown",
   "metadata": {},
   "source": [
    "We can also calculate correlation coefficients between lists of cosine similarity scores and the real visual similarity scores from the experiment. Which similarity model best correlates with them? How do the correlation coefficients compare with those from the previous comparison - and can you speculate why do we get such results? **[7 marks]**"
   ]
  },
  {
   "cell_type": "code",
   "execution_count": 11,
   "metadata": {},
   "outputs": [
    {
     "name": "stdout",
     "output_type": "stream",
     "text": [
      "\trho\tp\n",
      "raw\t0.121\t0.001\n",
      "pmi\t0.384\t0.0\n",
      "svd\t0.31\t0.0\n"
     ]
    }
   ],
   "source": [
    "from scipy.stats import spearmanr as correlation\n",
    "\n",
    "experiment_2={}\n",
    "experiment_2[\"raw\"] = correlation(visual_similarity,raw_similarities)\n",
    "experiment_2[\"pmi\"] = correlation(visual_similarity,ppmi_similarities)\n",
    "experiment_2[\"svd\"] = correlation(visual_similarity,svd_similarities)\n",
    "\n",
    "print(\"\\trho\\tp\")\n",
    "for condition in [\"raw\", \"pmi\", \"svd\"]:\n",
    "    print(\"{}\\t{}\\t{}\".format(condition, round(experiment_2[condition][0], 3), round(experiment_2[condition][1], 3)))"
   ]
  },
  {
   "cell_type": "markdown",
   "metadata": {},
   "source": [
    "**Your answer should go here:**\n",
    "\n",
    "Here are my observations:\n",
    "\n",
    "1. The range of the scores for the three models are lower for Experiment 2 than Experiment 1, i.e. there is less difference between them.\n",
    "2. All three models perform worse in Experiment 2 than Experiment 1.\n",
    "3. The difference between PMI and SVD is larger for Experiment 2 than Experiment 1.\n",
    "\n",
    "A tentative \"structuralist\" conclusion can be drawn from this. That is, the meaning of words are defined by their relation to other words within the system (i.e. language), while external factors, such as, how similiar referents are, are of less importance for meaning. According to this hypothesis, we expect higher correlations between distributional language models and semantic similiarity judgments (as both are system internal), than with visual judgements (which is external to language). \n",
    "\n",
    "I have no clear idea why PMI performs better than SVD in Experiment 2, than Experiment 1."
   ]
  },
  {
   "cell_type": "markdown",
   "metadata": {},
   "source": [
    "## 4. Operations on similarities"
   ]
  },
  {
   "cell_type": "markdown",
   "metadata": {},
   "source": [
    "We can perform mathematical operations on vectors to derive meaning predictions. For example, we can subtract the normalised vectors for `king` minus `queen` and add the resulting vector to `man` and we hope to get the vector for `woman`. Why? **[3 marks]**"
   ]
  },
  {
   "cell_type": "markdown",
   "metadata": {},
   "source": [
    "**Your answer should go here:**\n",
    "\n",
    "First, some definitions:\n",
    "*    we have two pairs: *a1*--*a2* and *b1*--*b2*; for example, *king* (*a1*)--*queen* (*a2*) and *man* (*b1*)--*woman* (*b2*)\n",
    "*    the assumed mathematical relation defined above is: *b2* = *b1* - (*a1* - *a2*)\n",
    "\n",
    "Now, the question is *why* we should make this assumption. \n",
    "*Attempted explanation:*\n",
    "The semantic difference between *king* and *queen* is the dimension *+MAN*. Consider a classical semantic component analysis of the pair:\n",
    "\n",
    "|Word |HUMAN|...|ROYAL|MAN|\n",
    "|-----|-----|---|-----|---|\n",
    "|King |  +  |...|  +  | + |\n",
    "|Queen|  +  |...|  +  | - |\n",
    "\n",
    "Assume that vectors ultimately represent conceptual content like this. Calculating the diffenrence between *king* and *queen* will result in the vector corresponding to the meaning *+MAN*. (We use substraction to capture semantic difference.) Now, we use *that* vector (representing *+MAN*) and substract from the vector of *man*, which would leave us the vector for *woman*. Again, the idea, perhaps is clarified by considering components:\n",
    "\n",
    "|Word |HUMAN|...|MAN|\n",
    "|-----|-----|---|---|\n",
    "|Man  |  +  |...| + |\n",
    "|Woman|  +  |...| - |"
   ]
  },
  {
   "cell_type": "markdown",
   "metadata": {},
   "source": [
    "Here is some helpful code that allows us to calculate such comparisons."
   ]
  },
  {
   "cell_type": "code",
   "execution_count": 12,
   "metadata": {},
   "outputs": [],
   "source": [
    "from scipy.spatial import distance\n",
    "\n",
    "def normalize(vec):\n",
    "    return vec / veclen(vec)\n",
    "\n",
    "def find_similar_to(vec1, space):\n",
    "    # vector similarity funciton\n",
    "    #sim_fn = lambda a, b: 1-distance.euclidean(normalize(a), normalize(b))\n",
    "    #sim_fn = lambda a, b: 1-distance.correlation(a, b)\n",
    "    #sim_fn = lambda a, b: 1-distance.cityblock(normalize(a), normalize(b))\n",
    "    #sim_fn = lambda a, b: 1-distance.chebyshev(normalize(a), normalize(b))\n",
    "    #sim_fn = lambda a, b: np.dot(normalize(a), normalize(b))\n",
    "    sim_fn = lambda a, b: 1-distance.cosine(a, b)\n",
    "\n",
    "    sims = [\n",
    "        (word2, sim_fn(vec1, space[word2]))\n",
    "        for word2 in space.keys()\n",
    "    ]\n",
    "    return sorted(sims, key = lambda p:p[1], reverse=True)"
   ]
  },
  {
   "cell_type": "markdown",
   "metadata": {},
   "source": [
    "Here is how you apply this code. Comment on the results you get. **[3 marks]**"
   ]
  },
  {
   "cell_type": "code",
   "execution_count": 13,
   "metadata": {},
   "outputs": [
    {
     "data": {
      "text/plain": [
       "[('long', 0.8733111261346901),\n",
       " ('above', 0.8259671977311955),\n",
       " ('around', 0.8030776291120685),\n",
       " ('sun', 0.7692439111243973),\n",
       " ('just', 0.7678481974778111),\n",
       " ('wide', 0.767257431992253),\n",
       " ('each', 0.7665960260861158),\n",
       " ('circle', 0.7647746702909336),\n",
       " ('length', 0.7601066921319761),\n",
       " ('almost', 0.7542351860536628)]"
      ]
     },
     "execution_count": 13,
     "metadata": {},
     "output_type": "execute_result"
    }
   ],
   "source": [
    "short = normalize(svdspace_10k['short'])\n",
    "light = normalize(svdspace_10k['light'])\n",
    "long = normalize(svdspace_10k['long'])\n",
    "heavy = normalize(svdspace_10k['heavy'])\n",
    "\n",
    "find_similar_to(light - (heavy - long), svdspace_10k)[:10]"
   ]
  },
  {
   "cell_type": "markdown",
   "metadata": {},
   "source": [
    "**Your answer should go here:**\n",
    "\n",
    "Here are two observations:\n",
    "\n",
    "1. The ambiguity of *light* seems to cause confusion for the prediction.\n",
    "2. For present purposes, the prediction \"over-estimates\" the contribution of the second element of the first pair. That is, we do not get *b2* (*short*), but *a2* (*long*) from our function *b1* - (*a1* - *a2*), discussed above. "
   ]
  },
  {
   "cell_type": "markdown",
   "metadata": {},
   "source": [
    "Find 5 similar pairs of pairs of words and test them. Hint: Google for `word analogies examples`. You can also construct analogies that are less lexical but more grammatical, e.g. `see, saw, leave, ?` or analogies that are based on world knowledge as in the [Google analogy dataset](http://download.tensorflow.org/data/questions-words.txt) from [3]. Does the resulting vector similarity confirm your expectations? But remember you can only do this if the words are contained in our vector space with 10,000 dimensions. **[10 marks]**"
   ]
  },
  {
   "cell_type": "code",
   "execution_count": 14,
   "metadata": {},
   "outputs": [
    {
     "name": "stdout",
     "output_type": "stream",
     "text": [
      "Predictions given algorithm k1:\n",
      "Incorrect prediction (boy instead of girl)\n",
      "Incorrect prediction (dark instead of light)\n",
      "Incorrect prediction (cairo instead of egypt)\n",
      "Correct prediction (sister)!\n",
      "Incorrect prediction (husband instead of wife)\n",
      "\n",
      "Predictions given algorithm k2:\n",
      "Correct prediction (boy,girl)!\n",
      "Incorrect prediction (dark,thin instead of light)\n",
      "Incorrect prediction (cairo,jerusalem instead of egypt)\n",
      "Correct prediction (sister,brother)!\n",
      "Incorrect prediction (husband,married instead of wife)\n",
      "\n",
      "Predictions given algorithm k3:\n",
      "Correct prediction (boy,girl,cat)!\n",
      "Correct prediction (dark,thin,light)!\n",
      "Incorrect prediction (cairo,jerusalem,carthage instead of egypt)\n",
      "Correct prediction (sister,brother,uncle)!\n",
      "Correct prediction (husband,married,wife)!\n"
     ]
    }
   ],
   "source": [
    "def in_model(quadruple, model):\n",
    "    \"\"\"Tests if the words of a quadruple are in a model.\"\"\"\n",
    "    not_in_model=[]\n",
    "    for w in quadruple:\n",
    "        try:\n",
    "            model[w]\n",
    "        except KeyError:\n",
    "            not_in_model.append(w)\n",
    "    \n",
    "    if len(not_in_model) == 1:\n",
    "        print(f\"This word is not in model: {not_in_model[0]}\")\n",
    "    elif len(not_in_model) > 1:\n",
    "        print(\"These words are not in model:\")\n",
    "        for w in not_in_model:\n",
    "            print(w)\n",
    "\n",
    "def predictor(quadruple, model, k=1):\n",
    "    \"\"\"Takes a quadruple of words and a model, and returns the \"accuracy\" of a prediction from that model. \n",
    "    Arguments: \n",
    "    - quadruple of words a1, a2, b1, b2, such that \"a1 is to a2 as b1 is to b2\" \n",
    "    (e.g., 'king' is to 'queen' as 'man' is to 'woman'\n",
    "    - vector model of word meanings;\n",
    "    - k, which defines which predictions in a list of weighted predictions \n",
    "    to consider as the prediction(s) of the algorithm. By default k=1, i.e. the first prediction\n",
    "    of the list. However, to allow for more forgiving evaluations, k can be set to include the top k \n",
    "    predicitions of the list.\n",
    "    \"\"\"\n",
    "    \n",
    "    vectors=[normalize(model[w]) for w in quadruple]\n",
    "    new_vector=vectors[3]-(vectors[1]-vectors[2])\n",
    "    # b2 = b1 - (a1 - a2)\n",
    "    my_prediction = [w for w,n in find_similar_to(new_vector, model)[:k]]\n",
    "    \n",
    "    if quadruple[-1] in my_prediction:\n",
    "        print(\"Correct prediction ({})!\".format(\",\".join(my_prediction)))\n",
    "    else:\n",
    "        print(\"Incorrect prediction ({} instead of {})\".format(\",\".join(my_prediction), quadruple[-1]))\n",
    "    \n",
    "pairs=[\n",
    "    (\"man\",\"woman\",\"boy\",\"girl\"),\n",
    "    (\"night\", \"day\", \"dark\", \"light\"),\n",
    "    (\"oslo\", \"norway\", \"cairo\", \"egypt\"), #from http://download.tensorflow.org/data/questions-words.txt\n",
    "    (\"husband\", \"wife\", \"brother\", \"sister\"),\n",
    "    (\"bull\", \"cow\", \"husband\", \"wife\")\n",
    "]\n",
    "\n",
    "for pair in pairs:\n",
    "    in_model(pair, svdspace_10k)\n",
    "\n",
    "print(\"Predictions given algorithm k1:\")\n",
    "for pair in pairs:\n",
    "    predictor(pair, svdspace_10k)\n",
    "\n",
    "print(\"\\nPredictions given algorithm k2:\")\n",
    "for pair in pairs:\n",
    "    predictor(pair, svdspace_10k, k=2)\n",
    "\n",
    "print(\"\\nPredictions given algorithm k3:\")\n",
    "for pair in pairs:\n",
    "    predictor(pair, svdspace_10k, k=3)  \n"
   ]
  },
  {
   "cell_type": "markdown",
   "metadata": {},
   "source": [
    "## 5. Semantic composition and phrase similarity **[20 marks]**\n",
    "\n",
    "In this task, we are going to look at how different semantic composition models, introduced in [2] correlate with human judgements. The file with the dataset is `mitchell_lapata_acl08.txt` included with this notebook. Your task is to do the following:  \n",
    "\n",
    "(i) process the dataset, extract pairs of `reference - landmark high` and `reference - landmark low`; you can use the code from the lecture as something to start with. Note that there are 2 landmarks for each reference: one landmark exhibits high similarity with the reference, while another one has low similarity with the reference. A single human participant could have evaluated both of these pairs. For more details, we refer you to the paper.  \n",
    "\n",
    "(ii) build models of semantic phrase composition: in the lecture we introduced simple additive, simple multiplicative and combined models (details are in [2]). Your task is to take a single pair (a reference or a high similarity landmark or a low similarity landmark) and compute the composition of its vectors using each of these functions. Thus, you will have three compositional models that take a `noun - verb` pair and output a single vector, representing the meaning of this pair. As your semantic space, you can use pretrained spaces (standard space, ppmi or svd) introduced above. It is up to you which space you use, but for someone who runs your code, it should be pretty straightforward to switch between them.\n",
    "\n",
    "(iii) calculate Spearman correlation between each model's predictions and human judgements; you should have something similar to the scores that are shown in the paper [2]:  "
   ]
  },
  {
   "cell_type": "markdown",
   "metadata": {},
   "source": [
    "![title](./res.png)"
   ]
  },
  {
   "cell_type": "markdown",
   "metadata": {},
   "source": [
    "The paper states that they calculated correlations between each individual participant's judgeements and each model's predictions.  \n",
    "\n",
    "Let's say we have 3 models: simple additive (A), simple multiplicative (M), combined (C).  \n",
    "From our task dataset, we also know that we have 20 participants.  \n",
    "Now, for each participant in 20 participants we get all `verb - noun` pairs that these participated evaluated.  \n",
    "For example:"
   ]
  },
  {
   "cell_type": "code",
   "execution_count": 15,
   "metadata": {},
   "outputs": [],
   "source": [
    "participant_judgemenets_example = [\n",
    " 'participant50 chatter child gabble 6 high',\n",
    " 'participant50 chatter tooth click 2 high',\n",
    " 'participant50 reel head whirl 5 high',\n",
    " 'participant50 reel mind stagger 4 low',\n",
    " 'participant50 reel industry stagger 5 high',\n",
    " 'participant50 reel man whirl 3 low',\n",
    " 'participant50 glow fire beam 7 low',\n",
    " 'participant50 glow face burn 3 low',\n",
    " 'participant50 glow cigar burn 5 high',\n",
    " 'participant50 glow skin beam 7 high'\n",
    "    \n",
    "]"
   ]
  },
  {
   "cell_type": "code",
   "execution_count": 16,
   "metadata": {},
   "outputs": [
    {
     "data": {
      "text/plain": [
       "['participant50 chatter child gabble 6 high',\n",
       " 'participant50 chatter tooth click 2 high',\n",
       " 'participant50 reel head whirl 5 high',\n",
       " 'participant50 reel mind stagger 4 low',\n",
       " 'participant50 reel industry stagger 5 high',\n",
       " 'participant50 reel man whirl 3 low',\n",
       " 'participant50 glow fire beam 7 low',\n",
       " 'participant50 glow face burn 3 low',\n",
       " 'participant50 glow cigar burn 5 high',\n",
       " 'participant50 glow skin beam 7 high']"
      ]
     },
     "execution_count": 16,
     "metadata": {},
     "output_type": "execute_result"
    }
   ],
   "source": [
    "participant_judgemenets_example"
   ]
  },
  {
   "cell_type": "markdown",
   "metadata": {},
   "source": [
    "Let's look at the first pair that participant50 evaluated: reference `child chatter` and high-level similarity landmark (as the last word in the row indicates) `child gabble`. The human gave the similarity score of 6 (very similar). Thus, human similarity judgment = [6].  \n",
    "\n",
    "Our A model's output:  \n",
    "cosine(p1, p2) = 0.88, where p1 is the result of addition of word vectors in the reference phrase `child gabble`, and p2 is the result of addition of word vectors in the high-level similarity phrase `child chatter`.  \n",
    "\n",
    "Therefore, we have human rating vector [6] and model A output [0.88]. Next is to compute correlation between these two vectors.\n",
    "\n",
    "To get an overall score, simply average your correlation scores over all participants, since you are calculating correlation scores per participant.\n",
    "\n",
    "Of course, your human rating vectors will be longer (e.g., [6, 7, 3, 4, 5]) where each element is a participant's judgement of a specific pair. Each of your models (A, B, C) will produce a single vector of cosine similarity between these same pairs (e.g., [0.89, 0.98, 0.23, 0.65, 0.55]). The goal is to compare each model's cosine similarity vectors with human rating vectors and identify the model which outputs the best result in terms of being the closest to the way human rate similarity between the phrases.\n",
    "\n",
    "The minimum to do in this task: compute correlations for 3 models mentioned above and human rating for AT LEAST one participant. Elaborate on how different the resulting correlation scores are depending on the model's composition function (additive, multiplicative, combined). For examples on how to interpret the results, look at Section 5 Results of the original paper."
   ]
  },
  {
   "cell_type": "code",
   "execution_count": 17,
   "metadata": {},
   "outputs": [],
   "source": [
    "#Only functions in this cell. The evaluation is carried out in the next cell. \n",
    "from scipy.stats import spearmanr as correlation\n",
    "import math\n",
    "import numpy as np\n",
    "\n",
    "def file_catcher(file_name):\n",
    "    \"\"\"Takes a filename for a file with the psychological data and returns a dataset \n",
    "    organised as a list of dictionaries.\"\"\"\n",
    "    \n",
    "    data=[]\n",
    "    participants=[]\n",
    "    lexicon=[]\n",
    "    with open(file_name, mode=\"r\") as f:\n",
    "        for row in [x.split(\" \") for x in f.read().split(\"\\n\")[1:]]:\n",
    "            unit={}\n",
    "            participant=row[0]\n",
    "            unit[\"participant\"]=participant\n",
    "            if participant not in participants:\n",
    "                participants.append(participant)\n",
    "            unit[\"verb\"]=row[1]\n",
    "            unit[\"noun\"]=row[2]\n",
    "            unit[\"lm\"]=row[3]\n",
    "            unit[\"input\"]=int(row[4])\n",
    "            unit[\"hilo\"]=row[5]\n",
    "            for w in row[1:3]:\n",
    "                if w not in lexicon:\n",
    "                    lexicon.append(w)\n",
    "            data.append(unit)\n",
    "    return data, participants, lexicon\n",
    "\n",
    "def restrict_data(data_set, space_model):\n",
    "    \"\"\"Takes the dataset of psychological data and tests if the words of that dataset is present in a model. \n",
    "    Returns a restricted dataset where every pair of judgement, which contains a word not in the model, \n",
    "    is removed.\"\"\"\n",
    "    \n",
    "    new_data=[]\n",
    "    for unit in data_set:\n",
    "        add_this=True\n",
    "        for w in [unit[\"noun\"], unit[\"verb\"], unit[\"lm\"]]:\n",
    "            try:\n",
    "                space_model[w]\n",
    "            except KeyError:\n",
    "                add_this=False\n",
    "        if add_this == True:\n",
    "            new_data.append(unit)\n",
    "    \n",
    "    reduction=len(data_set)-len(new_data)\n",
    "    print(f\"NOTE: The dataset has been reduced by {reduction} instances of [noun reference] -- [noun landmark] pairs of judgement, since these pairs contain at leats one word, which is not contained in the space model.\")\n",
    "            \n",
    "    return new_data\n",
    "\n",
    "def simple_add(noun, verb, model):\n",
    "    return model[noun]+model[verb]\n",
    "\n",
    "def simple_multiply(noun, verb, model):\n",
    "    return model[noun]*model[verb]\n",
    "\n",
    "def combined(noun, verb, model):\n",
    "    return model[noun]+model[verb]+(model[noun]*model[verb])\n",
    "\n",
    "# I used the following function to see how the data looked like. Please ignored, if considered irrelevant.\n",
    "def know_your_data(data, ignore_landmark=False):\n",
    "    \"\"\"Counts instances for judgement in the dataset. Returns a frequency list.\"\"\"\n",
    "    \n",
    "    type_freq={}    \n",
    "    \n",
    "    if ignore_landmark == False:\n",
    "        for unit in data:\n",
    "            typ=unit[\"noun\"]+\" \"+unit[\"verb\"]+\" (landmark being: {})\".format(unit[\"lm\"])\n",
    "            if typ in type_freq:\n",
    "                type_freq[typ]+=1\n",
    "            else:\n",
    "                type_freq[typ]=1\n",
    "    else:\n",
    "        for unit in data:\n",
    "            typ=unit[\"noun\"]+\" \"+unit[\"verb\"]\n",
    "            if typ in type_freq:\n",
    "                type_freq[typ]+=1\n",
    "            else:\n",
    "                type_freq[typ]=1\n",
    "    output=list(type_freq.items())\n",
    "    for line in output:\n",
    "        print(line)\n",
    "\n",
    "def my_cosine(vec1, vec2):\n",
    "    \"\"\"Calculates the consine similartiy of two vectors. Uses code from Erk.\"\"\"\n",
    "    \n",
    "    len_vec1=math.sqrt(np.sum(np.square(vec1)))\n",
    "    len_vec2=math.sqrt(np.sum(np.square(vec2)))\n",
    "    \n",
    "    if len_vec1 == 0.0 or len_vec2 == 0.0: # as assumed by Erk: \"if one of the vectors is empty. make the cosine zero.\"\n",
    "        cosine=0.0\n",
    "    else:\n",
    "        dotproduct = numpy.sum(vec1 * vec2)\n",
    "        cosine=dotproduct / (len_vec1 * len_vec2)\n",
    "    \n",
    "    return cosine  \n",
    "\n",
    "def create_eval(psy_data, space_model):\n",
    "    \"\"\"Takes a dataset of psychological data and returns the values required for the evaluation.\"\"\"\n",
    "    \n",
    "    evaluation_data={p:{\"add\":[], \"mult\":[], \"comb\":[], \"psy_sim\":[], \"hilo\":[]} for p in participants}\n",
    "    \n",
    "    for unit in psy_data:\n",
    "        partic=unit[\"participant\"]\n",
    "        noun=unit[\"noun\"]\n",
    "        reference=unit[\"verb\"]\n",
    "        lm=unit[\"lm\"]\n",
    "        \n",
    "        evaluation_data[partic][\"add\"].append(my_cosine(simple_add(noun,reference, space_model),simple_add(noun,lm,space_model)))\n",
    "        evaluation_data[partic][\"mult\"].append(my_cosine(simple_multiply(noun,reference, space_model),simple_multiply(noun,lm,space_model)))\n",
    "        evaluation_data[partic][\"comb\"].append(my_cosine(combined(noun,reference, space_model),combined(noun,lm,space_model)))\n",
    "        evaluation_data[partic][\"psy_sim\"].append(unit[\"input\"])\n",
    "        evaluation_data[partic][\"hilo\"].append(unit[\"hilo\"])\n",
    "\n",
    "    return evaluation_data\n",
    "\n",
    "def mean(num_lst):\n",
    "    \"\"\"Calculates the mean of a list of values.\"\"\"\n",
    "    if len(num_lst)>0:\n",
    "        m=sum(num_lst)/len(num_lst)\n",
    "    else:\n",
    "        m=0 \n",
    "    return m\n",
    "\n",
    "def to_star(p_val):\n",
    "    \"\"\"Takes a numerical p-value an returns the symbol for that value following the standard \"star convention\".\"\"\"\n",
    "\n",
    "    p_star=\"\"\n",
    "    if p_val <= 0.05:\n",
    "        if p_val<= 0.01:\n",
    "            p_star=\"**\"\n",
    "        else:\n",
    "            p_star=\"*\"\n",
    "    return p_star\n",
    "    \n",
    "\n",
    "def evaluate(data_for_evaluation, overview=True, average=True, overall_correlation=True):\n",
    "    \"\"\"Takes data for evaluation and prints the results of the evaluation.\n",
    "    The output is determined by three Boolean arguments:\n",
    "    (i)   overview: when True, the function prints a table of scores for each participant.\n",
    "    (ii)  average: when True, a column of average correlation between judgement and distance\n",
    "    in model is added as a column to the table with mean cosine similarities for high and low landmarks.\n",
    "    \"Average\" here stand for the mean of correlations calculated for each participant.\n",
    "    (iii) overall_correlation: when True, a table for correlation of judgment and similarity in the\n",
    "    model is calculated for all judgments.\n",
    "    \"\"\"\n",
    "    \n",
    "    #Two dictionaries for score keeping; one for the means of distance scores and one for correlations\n",
    "    evaluation_m1={p:{\"add\":{\"H\":0, \"L\":0}, \"mult\":{\"H\":0, \"L\":0}, \"comb\":{\"H\":0, \"L\":0}} for p in participants} #evaluation method 1; here we add evaluation data for high vs low\n",
    "    correlations={p:{\"add\":0, \"mult\":0, \"comb\":0} for p in participants}\n",
    "   \n",
    "    for pa in participants: #this list is defined outside the function\n",
    "        variable_x=data_for_evaluation[pa] #in order to simplify the code somewhat ...\n",
    "                        \n",
    "        #for correlations\n",
    "        for operation in [\"add\", \"mult\", \"comb\"]:\n",
    "            rho, p = correlation(variable_x[operation], variable_x[\"psy_sim\"])\n",
    "            rho=round(rho, 3)\n",
    "            correlations[pa][operation]=(rho, to_star(p))\n",
    "       \n",
    "        #for method 1 type evaluation in [2], i.e. mean distance for high vs. low landmarks\n",
    "        for operation in [\"add\", \"mult\", \"comb\"]:\n",
    "            high_lst=[]\n",
    "            low_lst=[]\n",
    "            \n",
    "            #for every high and low classification, we append its associated distance measure to separate lists     \n",
    "            for hilo, model_score in zip(variable_x[\"hilo\"], variable_x[operation]):\n",
    "                if hilo == \"high\":\n",
    "                    high_lst.append(model_score)\n",
    "                if hilo == \"low\":\n",
    "                    low_lst.append(model_score)\n",
    "            #now we take the mean of those lists of distance scores\n",
    "            high_score=mean(high_lst)\n",
    "            low_score=mean(low_lst)\n",
    "            #and adds to the dictionary used for score keeping\n",
    "            evaluation_m1[pa][operation][\"H\"]=high_score\n",
    "            evaluation_m1[pa][operation][\"L\"]=low_score\n",
    "    \n",
    "    #Table for overview (all participants)\n",
    "    table_no=1\n",
    "    if overview == True:\n",
    "        print(f\"TABLE {table_no}: Overview of scores per participant.\\n\")\n",
    "        print(\"Participant\\tAdd\\t\\t\\tMultiply\\t\\tCombined\")\n",
    "        print(\"\\t\\tCor.\\tHigh\\tLow\\tCor.\\tHigh\\tLow\\tCor.\\tHigh\\tLow\")\n",
    "        \n",
    "        for p in participants:\n",
    "            who=p\n",
    "            scores=[]\n",
    "            for operation in [\"add\", \"mult\", \"comb\"]:\n",
    "                scores.append(str(round(correlations[p][operation][0], 3))+correlations[p][operation][1]) #rho + its significance\n",
    "                scores.append(str(round(evaluation_m1[p][operation][\"H\"], 3)))\n",
    "                scores.append(str(round(evaluation_m1[p][operation][\"L\"], 3)))\n",
    "            print(\"{}\\t{}\".format(who, \"\\t\".join(scores)))\n",
    "        print(\"* Sig at 0.05 p-level; ** Sig. at 0.01 p-level.\")\n",
    "        table_no+=1\n",
    "    \n",
    "    #Table for means of cosine similarities for high and low landmarks\n",
    "    models={m:{\"hi\":0, \"lo\":0, \"cor\":0} for m in [\"add\", \"mult\", \"comb\"]}\n",
    "        \n",
    "    for operation in [\"add\", \"mult\", \"comb\"]: \n",
    "        high_lst=[]\n",
    "        low_lst=[]\n",
    "        cor_lst=[]\n",
    "                        \n",
    "        for pa in participants:\n",
    "            high_lst.append(evaluation_m1[pa][operation][\"H\"])\n",
    "            low_lst.append(evaluation_m1[pa][operation][\"L\"])\n",
    "            cor_lst.append(correlations[pa][operation][0]) #only rho-value; I am not sure how to use significance values in this average approach\n",
    "     \n",
    "        models[operation][\"hi\"]=round(mean(high_lst),3)\n",
    "        models[operation][\"lo\"]=round(mean(low_lst),3)\n",
    "        models[operation][\"cor\"]=round(mean(cor_lst),3)\n",
    "    \n",
    "    #If the variable average is set to True, a column for average correlaions are added to the table\n",
    "    if average == True:\n",
    "        print(f\"\\nTABLE {table_no}: Evaluations of models Add, Multiply and Combined.\\n\")\n",
    "        print(\"Model\\tHigh\\tLow\\tCorrelation*\")\n",
    "        for model in [\"add\", \"mult\", \"comb\"]:\n",
    "            print(\"{0}\\t{1}\\t{2}\\t{3}\".format(model, models[model][\"hi\"], models[model][\"lo\"], models[model][\"cor\"]))\n",
    "        print(f\"Note: Correlation here refers to the average of correlations calculated for all participants (N={len(participants)}).\")\n",
    "    #If not, the table only contain means of cosine similarities for high and low landmarks\n",
    "    else:\n",
    "        print(f\"\\nTABLE {table_no}: Evaluations of models Add, Multiply and Combined.\\n\")\n",
    "        print(\"Model\\tHigh\\tLow\")\n",
    "        for model in [\"add\", \"mult\", \"comb\"]:\n",
    "            print(\"{0}\\t{1}\\t{2}\".format(model, models[model][\"hi\"], models[model][\"lo\"]))\n",
    "    \n",
    "    table_no+=1\n",
    "    \n",
    "    #The table for correlation of judgment and similarity in the model is calculated for all judgments\n",
    "    if overall_correlation == True:\n",
    "        judgements=[]\n",
    "        add_lst=[]\n",
    "        mult_lst=[]\n",
    "        combined_lst=[]\n",
    "        \n",
    "        #Populates the lists with every judgement, similarity for Add model, etc.\n",
    "        for pa in participants:\n",
    "            judgements.extend(data_for_evaluation[pa][\"psy_sim\"])\n",
    "            add_lst.extend(data_for_evaluation[pa][\"add\"])\n",
    "            mult_lst.extend(data_for_evaluation[pa][\"mult\"])\n",
    "            combined_lst.extend(data_for_evaluation[pa][\"comb\"])\n",
    "        \n",
    "        #Calculates the correlation\n",
    "        cor_add, p_add=correlation(judgements, add_lst)\n",
    "        cor_mult, p_mult=correlation(judgements, mult_lst)\n",
    "        cor_comb, p_comb=correlation(judgements, combined_lst)\n",
    "        \n",
    "        #Prints a table\n",
    "        print(f\"\\nTABLE {table_no}: Correlations for Add, Multiply and Combined with all judgments (N={len(judgements)}).\\n\")\n",
    "        print(\"Model    Rho\")\n",
    "        print(\"Add      {}{}\".format(round(cor_add, 3), to_star(p_add)))\n",
    "        print(\"Multiply {}{}\".format(round(cor_mult, 3), to_star(p_mult)))\n",
    "        print(\"Combined {}{}\".format(round(cor_comb, 3), to_star(p_comb)))\n",
    "        print(\"* Sig at 0.05 p-level; ** Sig. at 0.01 p-level.\")\n"
   ]
  },
  {
   "cell_type": "code",
   "execution_count": 18,
   "metadata": {},
   "outputs": [
    {
     "name": "stdout",
     "output_type": "stream",
     "text": [
      "NOTE: The dataset has been reduced by 3360 instances of [noun reference] -- [noun landmark] pairs of judgement, since these pairs contain at leats one word, which is not contained in the space model.\n",
      "\n",
      "TABLE 1: Evaluations of models Add, Multiply and Combined.\n",
      "\n",
      "Model\tHigh\tLow\tCorrelation*\n",
      "add\t0.927\t0.874\t0.522\n",
      "mult\t0.937\t0.931\t0.1\n",
      "comb\t0.923\t0.89\t0.335\n",
      "Note: Correlation here refers to the average of correlations calculated for all participants (N=60).\n",
      "\n",
      "TABLE 2: Correlations for Add, Multiply and Combined with all judgments (N=240).\n",
      "\n",
      "Model    Rho\n",
      "Add      0.473**\n",
      "Multiply 0.012\n",
      "Combined 0.317**\n",
      "* Sig at 0.05 p-level; ** Sig. at 0.01 p-level.\n"
     ]
    }
   ],
   "source": [
    "#Now, lets run this...\n",
    "space_model=svdspace_10k #Set your preferred space model here if you want\n",
    "\n",
    "data_set, participants, words = file_catcher(\"mitchell_lapata_acl08.txt\")\n",
    "#know_your_data(data_set, ignore_landmark=True)\n",
    "#in_model(words, svdspace_10k)\n",
    "data_set=restrict_data(data_set, space_model)\n",
    "\n",
    "data_for_evaluation=create_eval(data_set, space_model)\n",
    "evaluate(data_for_evaluation, overview=False)"
   ]
  },
  {
   "cell_type": "markdown",
   "metadata": {},
   "source": [
    "**Any comments/thoughts should go here:**\n",
    "\n",
    "In contrast to Mitchell's and Lapata's study [2], the model Add is better than Multiply and Combined in this evaluation. I have no clear idea why this is the case. However, the reduced dataset used here (due to several words in their experiment being absent from the space model used), might be one explanation of why the results are so different. "
   ]
  },
  {
   "cell_type": "markdown",
   "metadata": {},
   "source": [
    "# Literature\n",
    "\n",
    "  - [1] C. Silberer and M. Lapata. Learning grounded meaning representations with autoencoders. In Proceedings of the 52nd Annual Meeting of the Association for Computational Linguistics, pages 721–732, Baltimore, Maryland, USA, June 23–25 2014 2014. Association for Computational Linguistics.  \n",
    "\n",
    "  - [2] Mitchell, J., & Lapata, M. (2008). Vector-based Models of Semantic Composition. In Proceedings of ACL-08: HLT (pp. 236–244). Association for Computational Linguistics.\n",
    "  \n",
    "  - [3] T. Mikolov, I. Sutskever, K. Chen, G. S. Corrado, and J. Dean. Distributed representations of words and phrases and their compositionality. In Advances in neural information processing systems, pages 3111–3119, 2013."
   ]
  },
  {
   "cell_type": "markdown",
   "metadata": {},
   "source": [
    "## Marks\n",
    "\n",
    "This assignment has a total of 60 marks."
   ]
  }
 ],
 "metadata": {
  "kernelspec": {
   "display_name": "Python 3",
   "language": "python",
   "name": "python3"
  },
  "language_info": {
   "codemirror_mode": {
    "name": "ipython",
    "version": 3
   },
   "file_extension": ".py",
   "mimetype": "text/x-python",
   "name": "python",
   "nbconvert_exporter": "python",
   "pygments_lexer": "ipython3",
   "version": "3.8.5"
  }
 },
 "nbformat": 4,
 "nbformat_minor": 4
}
