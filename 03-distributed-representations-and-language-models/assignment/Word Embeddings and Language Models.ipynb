{
 "cells": [
  {
   "cell_type": "markdown",
   "metadata": {},
   "source": [
    "# Lab 3: Word Embeddings and Language Modelling\n",
    "\n",
    "Adam Ek"
   ]
  },
  {
   "cell_type": "markdown",
   "metadata": {},
   "source": [
    "In this lab we'll explore constructing *static* word embeddings (i.e. word2vec) and building language models. We'll also evaluate these systems on intermediate tasks, namely word similarity and identifying \"good\" and \"bad\" sentences.\n",
    "\n",
    "* For this we'll use pytorch. Some basic operations that will be useful can be found here: https://jhui.github.io/2018/02/09/PyTorch-Basic-operations\n",
    "* In general: we are not interested in getting state-of-the-art performance :) focus on the implementation and not results of your model. For this reason, you can use a subset of the dataset: the first 5000-10 000 sentences or so, on linux/mac: ```head -n 10000 inputfile > outputfile```. \n",
    "* If possible, use the MLTGpu, it will make everything faster :)"
   ]
  },
  {
   "cell_type": "code",
   "execution_count": 1,
   "metadata": {},
   "outputs": [],
   "source": [
    "import torch\n",
    "import torch.nn as nn\n",
    "import torch.nn.functional as F\n",
    "import numpy as np\n",
    "\n",
    "# for gpu, replace \"cpu\" with \"cuda:n\" where n is the index of the GPU\n",
    "device = torch.device('cpu')"
   ]
  },
  {
   "cell_type": "markdown",
   "metadata": {},
   "source": [
    "# Word2Vec embeddings\n",
    "\n",
    "In this first part we'll construct a word2vec model which will give us *static* word embeddings (that is, they are fixed after training).\n",
    "\n",
    "After we've trained our model we will evaluate the embeddings obtained on a word similarity task."
   ]
  },
  {
   "cell_type": "markdown",
   "metadata": {},
   "source": [
    "## Formatting data\n"
   ]
  },
  {
   "cell_type": "markdown",
   "metadata": {},
   "source": [
    "First we need to load some data, you can download the file on canvas under files/03-lab-data/wiki-corpus.txt. The file contains 50 000 sentences randomly selected from the complete wikipedia. Each line in the file contains one sentence. The sentences are whitespace tokenized.\n",
    "\n",
    "Your first task is to create a dataset suitable for word2vec. That is, we define some ```window_size``` then iterate over all sentences in the dataset, putting the center word in one field and the context words in another (separate the fields with ```tab```).\n",
    "\n",
    "For example, the sentece \"this is a lab\" with ```window size = 4``` will be formatted as:\n",
    "```\n",
    "center, context\n",
    "---------------------\n",
    "this    is a lab\n",
    "is      this a lab\n",
    "a       this is lab\n",
    "lab     this is a\n",
    "```\n",
    "\n",
    "this will be our training examples when training the word2vec model.\n",
    "\n",
    "[3 marks]"
   ]
  },
  {
   "cell_type": "code",
   "execution_count": 2,
   "metadata": {},
   "outputs": [],
   "source": [
    "data_path = 'data/wiki-corpus.txt'\n",
    "WINDOW_SIZE = 4 #on each side!\n",
    "def corpus_reader(data_path, output=\"data/my_data.csv\", k=WINDOW_SIZE):\n",
    "    \n",
    "    with open(data_path, mode=\"r\") as f:\n",
    "        my_data=[line.split(\" \") for line in f.read().split(\"\\n\")]\n",
    "    \n",
    "    #print(my_data[:10])\n",
    "    my_data=my_data[:1000] #OBS!\n",
    "    \n",
    "    my_string=\"\"\n",
    "    for sentence in my_data:\n",
    "        if len(sentence)>1: #only at least two-word sentences (minmal context)\n",
    "            my_context=[\"<x>\"]*k + sentence + [\"<x>\"]*k\n",
    "            i=k\n",
    "            for w in sentence:\n",
    "                my_string+=w+\"\\t\"\n",
    "                j=i+1\n",
    "                left=my_context[i-k:i]\n",
    "                right=my_context[j:j+k]\n",
    "                context_words=[c for c in left+right if c not in[\"<x>\", \"(\", \")\", \".\", \"!\", \",\", '\"', \"'\", \"?\"]]\n",
    "                my_string+=\" \".join(context_words)+\"\\n\"\n",
    "                i+=1\n",
    "    \n",
    "    #so what do I do with my_string????\n",
    "    with open(output, mode=\"w\") as f:\n",
    "        f.write(my_string[:-1]) #note to self: we do not want empty rows\n",
    "\n",
    "corpus_reader(data_path)\n"
   ]
  },
  {
   "cell_type": "markdown",
   "metadata": {},
   "source": [
    "We sampled 50 000 senteces completely random from the *whole* wikipedia for our training data. Give some reasons why this is good, and why it might be bad. (*note*: We'll have a few questions like these, one or two reasons for and against is sufficient)\n",
    "\n",
    "[2 marks]"
   ]
  },
  {
   "cell_type": "markdown",
   "metadata": {},
   "source": [
    "**ANSWER**\n"
   ]
  },
  {
   "cell_type": "markdown",
   "metadata": {},
   "source": [
    "### Loading the data\n",
    "\n",
    "We now need to load the data in an appropriate format for torchtext (https://torchtext.readthedocs.io/en/latest/). We'll use PyText for this and it'll follow the same structure as I showed you in the lecture (remember to lower-case all tokens). Create a function which returns a (bucket)iterator of the training data, and the vocabulary object (```Field```). \n",
    "\n",
    "(*hint1*: you can format the data such that the center word always is first, then you only need to use one field)\n",
    "\n",
    "(*hint2*: the code I showed you during the leture is available in /files/pytorch_tutorial/ on canvas)\n",
    "\n",
    "[4 marks]"
   ]
  },
  {
   "cell_type": "code",
   "execution_count": null,
   "metadata": {},
   "outputs": [],
   "source": [
    "from torchtext.legacy.data import Field, BucketIterator, Iterator, TabularDataset\n",
    "\n",
    "def get_data(\n",
    "    my_path = \"data/my_data.csv\",\n",
    "    batch_size = 3\n",
    "    ):\n",
    "    \n",
    "    whitespacer = lambda x: x.split(' ') #from: files/partofspeech-tagging_main.py on Canvas\n",
    "   \n",
    "    MY_FIELD = Field(\n",
    "        tokenize = whitespacer,\n",
    "        lower=True,\n",
    "        batch_first = True\n",
    "        )\n",
    "        \n",
    "    my_fields = [(\"target_word\", MY_FIELD), (\"context_words\", MY_FIELD)]   \n",
    "    \n",
    "    train = TabularDataset(\n",
    "        path   = my_path,\n",
    "        format = 'csv',\n",
    "        fields = my_fields,\n",
    "        #skip_header = True,\n",
    "        csv_reader_params = {'delimiter':'\\t', 'quotechar':'{'} #Note \"{\" is used as quotechar\n",
    "        )\n",
    "    \n",
    "    #Note on quote character selection: \n",
    "    #By trial and error I found that \"{\" is not a character in the corpus.\n",
    "    #Therefore it can be used as quote character. (Swedish \"å\", \"ä\" and \"ö\" are in \n",
    "    #the corpus. So is \"½\".)\n",
    "\n",
    "\n",
    "    MY_FIELD.build_vocab(train)\n",
    "    \n",
    "    my_bucket = BucketIterator(\n",
    "        train,      \n",
    "        batch_size        = batch_size,\n",
    "        sort_within_batch = True,\n",
    "        sort_key          = lambda x: len(x.context_words),\n",
    "        shuffle           = True,\n",
    "        device            = device)    \n",
    "    \n",
    "    \n",
    "    \n",
    "    return my_bucket, MY_FIELD.vocab\n"
   ]
  },
  {
   "cell_type": "code",
   "execution_count": null,
   "metadata": {
    "scrolled": true
   },
   "outputs": [],
   "source": [
    "#FOR DEVELOPMENT; PLEASE IGNORE! NO HARM IN RUNNING IT THOUGH.\n",
    "b, v = get_data()\n",
    "print(b)\n",
    "print(v)\n",
    "print(len(v))"
   ]
  },
  {
   "cell_type": "code",
   "execution_count": null,
   "metadata": {
    "scrolled": true
   },
   "outputs": [],
   "source": [
    "#FOR DEVELOPMENT; PLEASE IGNORE! (DOES NOT AFFECT CODE BELOW)\n",
    "t=0\n",
    "c=0\n",
    "\n",
    "for i, x in enumerate(b):\n",
    "    if x.target_word.shape[0] != 3:\n",
    "        t+=1\n",
    "        print(x.target_word)\n",
    "    if x.context_words.shape[0] != 3:\n",
    "        c+=1\n",
    "        print(x.context_words)\n",
    "\n",
    "print(\"t \", t)\n",
    "print(\"c \", c)"
   ]
  },
  {
   "cell_type": "markdown",
   "metadata": {},
   "source": [
    "We lower-cased all tokens above; give some reasons why this is a good idea, and why it may be harmful to our embeddings.\n",
    "\n",
    "[2 marks]"
   ]
  },
  {
   "cell_type": "markdown",
   "metadata": {},
   "source": [
    "**ANSWER:** \n",
    "Here is a question to answer this question: Does upper case carry any relevant information? If so, which?\n",
    "\n",
    "Different answers to these question can guide our discussion of reasons for and against lower-casing. \n",
    "\n",
    "**Yes**, when lower-casing, at least two types of information that are *lost*:\n",
    "*    Named entities (e.g. *Shell* vs *shell*)\n",
    "*    Sentence bounary information (e.g. *The* is a better predicition after *.* than *the*).\n",
    "\n",
    "In as far as such information is important for the task we are trying to solve with the embeddings, lower-casing can be \"harmfull\". Consider, for example, named entitiy recognition and language modelling aiming to predict sequentiality of language.\n",
    "\n",
    "Alternatively, there is also a sense in which: **no**, upper case does not carry much relevant information; mostly, the upper vs. lower case is *semantically* redundant, but *expressively* expensive. Potentially our vocabulary could be twice as long. As such, there is good reason for lower-casing. "
   ]
  },
  {
   "cell_type": "markdown",
   "metadata": {},
   "source": [
    "## Word Embeddings Model"
   ]
  },
  {
   "cell_type": "markdown",
   "metadata": {},
   "source": [
    "We will implement the CBOW model for constructing word embedding models."
   ]
  },
  {
   "cell_type": "code",
   "execution_count": null,
   "metadata": {},
   "outputs": [],
   "source": [
    "import torch.optim as optim"
   ]
  },
  {
   "cell_type": "markdown",
   "metadata": {},
   "source": [
    "In the CBOW model we try to predict the center word based on the context. That is, we take as input ```n``` context words, encode them as vectors, then combine them by summation. This will give us one embedding. We then use this embedding to predict *which* word in our vocabuary is the most likely center word. \n",
    "\n",
    "Implement this model \n",
    "\n",
    "[7 marks]"
   ]
  },
  {
   "cell_type": "code",
   "execution_count": null,
   "metadata": {},
   "outputs": [],
   "source": [
    "class CBOWModel(nn.Module):\n",
    "    def __init__(self, voc_size, hidden_d):\n",
    "        super(CBOWModel, self).__init__()\n",
    "        self.embeddings = nn.Embedding(voc_size, hidden_d) #voc_size * window_size?\n",
    "        self.prediction = nn.Linear(hidden_d, voc_size)\n",
    "        self.vsize=voc_size #I have used this below\n",
    "        \n",
    "        # NOTE: Softmax is part of the loss function implemented below\n",
    "    \n",
    "    def forward(self, context):\n",
    "        #print(context)\n",
    "        embedded_context = self.projection_function(context)\n",
    "        #print(embedded_context)\n",
    "        projection = self.embeddings(embedded_context) \n",
    "        predictions = self.prediction(projection)\n",
    "        \n",
    "        return predictions\n",
    "    \n",
    "        \n",
    "    def projection_function(self, xs):\n",
    "        \"\"\"\n",
    "        This function will take as input a tensor of size (B, S, D)\n",
    "        where B is the batch_size, S the window size, and D the dimensionality of embeddings\n",
    "        this function should compute the sum over the embedding dimensions of the input, \n",
    "        that is, we transform (B, S, D) to (B, 1, D) or (B, D) \n",
    "        \"\"\"\n",
    "        #Collapsed one-hot vector representation... \n",
    "        b=xs.shape[0] #The number of \"lines\" (the batch size)\n",
    "        \n",
    "        xs_sum=torch.zeros(b, self.vsize, dtype=torch.int) \n",
    "        for i in range(b):\n",
    "            ctxt=xs[i] #context of ith batch\n",
    "            for j in ctxt:\n",
    "                xs_sum[i][j]+=1\n",
    "     \n",
    "        #xs_sum = torch.sum(xs, dim=0) \n",
    "        #column-wise sum for the n=S embeddings  x  n=B batches\n",
    "        #https://towardsdatascience.com/understanding-dimensions-in-pytorch-6edf9972d3be\n",
    "        return xs_sum"
   ]
  },
  {
   "cell_type": "markdown",
   "metadata": {},
   "source": [
    "Now we need to train the models. First we define which hyperparameters to use. (You can change these, for example when *developing* your model you can use a batch size of 2 and a very low dimensionality (say 10), just to speed things up). When actually training your model *fo real*, you can use a batch size of [8,16,32,64], and embedding dimensionality of [128,256]."
   ]
  },
  {
   "cell_type": "code",
   "execution_count": null,
   "metadata": {},
   "outputs": [],
   "source": [
    "# you can change these numbers to suit your needs :)\n",
    "word_embeddings_hyperparameters = {'epochs':3,\n",
    "                                   'batch_size':8,\n",
    "                                   'embedding_size':128,\n",
    "                                   'learning_rate':0.001,\n",
    "                                   'embedding_dim':128}"
   ]
  },
  {
   "cell_type": "markdown",
   "metadata": {},
   "source": [
    "Train your model. Iterate over the dataset, get outputs from your model, calculate loss and backpropagate.\n",
    "\n",
    "We mentioned in the lecture that we use Negative Log Likelihood (https://pytorch.org/docs/stable/generated/torch.nn.NLLLoss.html) loss to train Word2Vec model. In this lab we'll take a shortcut when *training* and use Cross Entropy Loss (https://pytorch.org/docs/stable/generated/torch.nn.CrossEntropyLoss.html), basically it combines ```log_softmax``` and ```NLLLoss```. So what your model should output is a *score* for each word in our vocabulary. The ```CrossEntropyLoss``` will then assign probabilities and calculate the negative log likelihood loss.\n",
    "\n",
    "[3 marks]"
   ]
  },
  {
   "cell_type": "code",
   "execution_count": null,
   "metadata": {
    "scrolled": false
   },
   "outputs": [],
   "source": [
    "\n",
    "# load data\n",
    "\n",
    "dataset, vocab = get_data(\n",
    "    #batch_size = word_embeddings_hyperparameters['batch_size']\n",
    "    batch_size = 3\n",
    "    )\n",
    "print(\"Length of vocabulary: \", len(vocab))\n",
    "\n",
    "# build model and construct loss/optimizer\n",
    "cbow_model = CBOWModel(len(vocab), word_embeddings_hyperparameters['embedding_dim'])\n",
    "cbow_model.to(device)\n",
    "loss_fn = nn.CrossEntropyLoss()\n",
    "optimizer = optim.Adam(cbow_model.parameters(), lr=word_embeddings_hyperparameters['learning_rate'])\n",
    "\n",
    "# start training loop\n",
    "cbow_model.train()\n",
    "total_loss = 0\n",
    "for epoch in range(word_embeddings_hyperparameters['epochs']):\n",
    "    for i, batch in enumerate(dataset):\n",
    "        \n",
    "        context = batch.context_words\n",
    "        target_word = batch.target_word\n",
    "        \n",
    "        #print(context)\n",
    "        #print(target_word)\n",
    "        \n",
    "        # send your batch of sentences to the model\n",
    "        output = cbow_model(context)\n",
    "        \n",
    "        # compute the loss, you'll need to reshape the input\n",
    "        # you can read more about this is the documentation for\n",
    "        # CrossEntropyLoss\n",
    "        \n",
    "        #print(output)\n",
    "        hot_output=torch.zeros(target_word.shape[0], len(vocab), dtype=torch.long)\n",
    "        for i in range(target_word.shape[0]):\n",
    "            indx=target_word[i]\n",
    "            hot_output[i][indx]+=1\n",
    "\n",
    "        loss = loss_fn(output, hot_output)\n",
    "        total_loss += loss.item()\n",
    "        \n",
    "        # print average loss for the epoch\n",
    "        print(total_loss/(i+1), end='\\r') \n",
    "        \n",
    "        # compute gradients\n",
    "        loss.backward()\n",
    "        \n",
    "        # update parameters\n",
    "        optimizer.step()\n",
    "        \n",
    "        # reset gradients\n",
    "        optimizer.zero_grad\n",
    "\n",
    "    print()\n",
    "        "
   ]
  },
  {
   "cell_type": "code",
   "execution_count": null,
   "metadata": {},
   "outputs": [],
   "source": [
    "#SAVING THE MODEL\n",
    "PATH = \"models/my_model.pt\"\n",
    "torch.save(cbow_model, PATH)"
   ]
  },
  {
   "cell_type": "code",
   "execution_count": null,
   "metadata": {},
   "outputs": [],
   "source": [
    "#LOAD MODEL\n",
    "model = torch.load(PATH)\n",
    "model.eval()"
   ]
  },
  {
   "cell_type": "code",
   "execution_count": null,
   "metadata": {},
   "outputs": [],
   "source": [
    "#FOR DEVELOPMENT; PLEASE IGNORE\n",
    "e=cbow_model.embeddings.weight\n",
    "print(len(e))\n",
    "#print(e[23])\n",
    "\n",
    "wookie=vocab.itos\n",
    "wookie[0]"
   ]
  },
  {
   "cell_type": "markdown",
   "metadata": {},
   "source": [
    "## Evaluating the model"
   ]
  },
  {
   "cell_type": "markdown",
   "metadata": {},
   "source": [
    "We will evaluate the model on a dataset of word similarities, WordSim353 (http://alfonseca.org/eng/research/wordsim353.html , also avalable in vanvas under files/03-l). The first thing we need to do is read the dataset and translate it to integers. What we'll do is to reuse the ```Field``` that records word indexes (the second output of ```get_data()```) and use it to parse the file.\n",
    "\n",
    "The wordsim data is structured as follows:\n",
    "\n",
    "```\n",
    "word1 word2 score\n",
    "...\n",
    "```\n",
    "\n",
    "\n",
    "The ```Field``` we got from ```read_data()``` has two built-in functions, ```stoi``` which maps a string to an integer and ```itos``` which maps an integer to a string. \n",
    "\n",
    "What our datareader needs to do is: \n",
    "\n",
    "```\n",
    "for line in file:\n",
    "    word1, word2, score = file.split()\n",
    "    # encode word1 and word2 as integers\n",
    "    word1_idx = vocab.vocab.stoi[word1]\n",
    "    word2_idx = vocab.vocab.stoi[word2]\n",
    "```\n",
    "\n",
    "when we have the integers for ```word_1``` and ```word2``` we'll compute the similarity between their word embeddings with *cosine simlarity*. We can obtain the embeddings by querying the embedding layer of the model.\n",
    "\n",
    "We calculate the cosine similarity for each word pair in the dataset, then compute the pearson correlation between the similarities we obtained with the scores given in the dataset. \n",
    "\n",
    "[4 marks]"
   ]
  },
  {
   "cell_type": "code",
   "execution_count": null,
   "metadata": {},
   "outputs": [],
   "source": [
    "# your code goes here\n",
    "\n",
    "def read_wordsim(path, \n",
    "                 vocabulary=vocab.stoi, \n",
    "                 checker=vocab.itos,\n",
    "                 embeddings=cbow_model.embeddings.weight):\n",
    "    #https://pytorch.org/tutorials/beginner/nlp/word_embeddings_tutorial.html\n",
    "    dataset_sims = []\n",
    "    model_sims = []\n",
    "    with open(path) as f:\n",
    "        for line in f.read().split(\"\\n\"):\n",
    "            if len(line) != 0: #We do not want empty lines.\n",
    "                word1, word2, score = line.split() #splits by space by default\n",
    "\n",
    "            # get the index for the word\n",
    "            word1_idx = vocabulary[word1]\n",
    "            word2_idx = vocabulary[word2]            \n",
    "            \n",
    "            if (checker[word1_idx]=='<unk>', checker[word2_idx]=='<unk>') == (False, False):\n",
    "            #If two words are unknown to the model they will both be assigned \"<unk>\"\n",
    "            #and associated with the same embedding (u). The cosine similarity of u and u\n",
    "            #will be 1. I suggest that such scores should not be part of our evaluation.\n",
    "\n",
    "                score = float(score)\n",
    "                dataset_sims.append(score)\n",
    "\n",
    "                #print(word1, \" -- \", word2)\n",
    "                #print(word1_idx)\n",
    "                #print(word2_idx)\n",
    "\n",
    "                # get the embedding of the word\n",
    "                # the hidden layer will be a matrix of weights;\n",
    "                # use the index to identify the right row/column (?)\n",
    "                word1_emb = embeddings[word1_idx]\n",
    "                word2_emb = embeddings[word2_idx]\n",
    "\n",
    "                # compute cosine similarity, we'll use the version included in pytorch functional\n",
    "                # https://pytorch.org/docs/master/generated/torch.nn.functional.cosine_similarity.html\n",
    "                cosine_similarity = F.cosine_similarity(word1_emb, word2_emb, dim=0)\n",
    "                \n",
    "                #In order to identify \"best\" and \"worst performing word pairs\"; see below.\n",
    "                print(f\"{word1} -- {word2} (psy: {round(score/10, 3)}, model: {round(cosine_similarity.item(), 3)}).\")\n",
    "\n",
    "                model_sims.append(cosine_similarity.item())\n",
    "    \n",
    "    return dataset_sims, model_sims\n",
    "\n",
    "path = 'eval_data/wordsim_similarity_goldstandard.txt'\n",
    "data, model = read_wordsim(path)\n",
    "pearson_correlation = np.corrcoef(data, model)\n",
    "            \n",
    "# the non-diagonals give the pearson correlation,\n",
    "print(\"\\nRESULTS:\")\n",
    "print(pearson_correlation)"
   ]
  },
  {
   "cell_type": "markdown",
   "metadata": {},
   "source": [
    "Do you think the model performs good or bad? Why?\n",
    "\n",
    "[3 marks]"
   ]
  },
  {
   "cell_type": "markdown",
   "metadata": {},
   "source": [
    "**ANSWER**\n"
   ]
  },
  {
   "cell_type": "markdown",
   "metadata": {},
   "source": [
    "Select the 10 best and 10 worst performing word pairs, can you see any patterns that explain why *these* are the best and worst word pairs?\n",
    "\n",
    "[3 marks]"
   ]
  },
  {
   "cell_type": "markdown",
   "metadata": {},
   "source": [
    "**ANSWER**\n"
   ]
  },
  {
   "cell_type": "markdown",
   "metadata": {},
   "source": [
    "Suggest some ways of improving the model we apply to WordSim353.\n",
    "\n",
    "[3 marks]"
   ]
  },
  {
   "cell_type": "markdown",
   "metadata": {},
   "source": [
    "**ANSWER**\n"
   ]
  },
  {
   "cell_type": "markdown",
   "metadata": {},
   "source": [
    "If we consider a scenario where we use these embeddings in a downstream task, for example sentiment analysis (roughly: determining whether a sentence is positive or negative). \n",
    "\n",
    "Give some examples why the sentiment analysis model would benefit from our embeddnings and one examples why our embeddings could hur the performance of the sentiment model.\n",
    "\n",
    "[3 marks]"
   ]
  },
  {
   "cell_type": "markdown",
   "metadata": {},
   "source": [
    "**ANSWER**\n"
   ]
  },
  {
   "cell_type": "markdown",
   "metadata": {},
   "source": [
    "# Language modeling"
   ]
  },
  {
   "cell_type": "markdown",
   "metadata": {},
   "source": [
    "In this second part we'll build a simple LSTM language model. Your task is to construct a model which takes a sentence as input and predict the next word for each word in the sentence. For this you'll use the ```LSTM``` class provided by PyTorch (https://pytorch.org/docs/stable/generated/torch.nn.LSTM.html). You can read more about the LSTM here: https://colah.github.io/posts/2015-08-Understanding-LSTMs/\n",
    "\n",
    "NOTE!!!: Use the same dataset (wiki-cropus.txt) as before.\n",
    "\n",
    "Our setup is similar to before, we first encode the words as distributed representations then pass these to the LSTM and for each output we predict the next word.\n",
    "\n",
    "For this we'll build a new dataloader with torchtext, the file we pass to the dataloader should contain one sentence per line, with words separated by whitespace.\n",
    "\n",
    "```\n",
    "word_1, ..., word_n\n",
    "word_1, ..., word_k\n",
    "...\n",
    "```\n",
    "\n",
    "in this dataloader you want to make sure that each sentence begins with a ```<start>``` token and ends with a ```<end>``` token, there is a keyword argument in ```Field``` for this :). But other than that, as before you read the dataset and output a iterator over the dataset and a vocabulary. \n",
    "\n",
    "Implement the dataloader, language model and the training loop (the training loop will basically be the same as for word2vec).\n",
    "\n",
    "[12 marks]"
   ]
  },
  {
   "cell_type": "code",
   "execution_count": null,
   "metadata": {},
   "outputs": [],
   "source": [
    "# you can change these numbers to suit your needs as before :)\n",
    "lm_hyperparameters = {'epochs':3,\n",
    "                      'batch_size':16,\n",
    "                      'learning_rate':0.001,\n",
    "                      'embedding_dim':128,\n",
    "                      'output_dim':128}"
   ]
  },
  {
   "cell_type": "code",
   "execution_count": 3,
   "metadata": {},
   "outputs": [],
   "source": [
    "#FOR DEVELOPMENT ONLY; PLEASE IGNORE.\n",
    "\n",
    "def shorty(txt_in, txt_out, max_lines=1000):\n",
    "    with open(txt_in, mode=\"r\") as f:\n",
    "        my_data = f.read().split(\"\\n\")\n",
    "    with open(txt_out, mode=\"w\") as f:\n",
    "        output=\"\\n\".join(my_data[:max_lines])\n",
    "        f.write(output)\n",
    "shorty('data/wiki-corpus.txt', 'data/wiki-corpus-short.txt')"
   ]
  },
  {
   "cell_type": "code",
   "execution_count": null,
   "metadata": {},
   "outputs": [],
   "source": [
    "#data_path = 'data/wiki-corpus.txt'\n",
    "data_path = 'data/wiki-corpus-short.txt' #OBS!\n",
    "\n",
    "from torchtext.legacy.data import Field, BucketIterator, Iterator, TabularDataset\n",
    "\n",
    "def get_data(\n",
    "    my_path = data_path,\n",
    "    batch_size = 3\n",
    "    ):\n",
    "    \n",
    "    whitespacer = lambda x: x.split(' ') #from: files/partofspeech-tagging_main.py on Canvas\n",
    "    \n",
    "    MY_FIELD = Field(\n",
    "        tokenize = whitespacer,\n",
    "        lower=True,\n",
    "        batch_first = True,\n",
    "        init_token=\"<start>\", \n",
    "        eos_token=\"<end>\"\n",
    "    )\n",
    "\n",
    "    train = TabularDataset(\n",
    "        path   = my_path,\n",
    "        #train  = file,\n",
    "        format = 'csv',\n",
    "        fields = [(\"sentence\", MY_FIELD)],\n",
    "        #skip_header = True,\n",
    "        #csv_reader_params = {'delimiter':'\\t', 'quotechar':'ö'} #supposedly 'ö' is not in our English data\n",
    "    )\n",
    "\n",
    "    MY_FIELD.build_vocab(train)\n",
    "    \n",
    "    my_bucket = BucketIterator(\n",
    "        train,      \n",
    "        batch_size        = batch_size,\n",
    "        sort_within_batch = True,\n",
    "        sort_key          = lambda x: len(x.sentence),\n",
    "        shuffle           = True,\n",
    "        device            = device)    \n",
    "    \n",
    "    return my_bucket, MY_FIELD.vocab\n"
   ]
  },
  {
   "cell_type": "code",
   "execution_count": null,
   "metadata": {},
   "outputs": [],
   "source": [
    "#FOR DEVELOPMENT ONLY; PLEASE IGNORE!\n",
    "b, v = get_data()\n",
    "len(v)\n",
    "for i in [0,1,2]: \n",
    "    print(v.itos[i])\n"
   ]
  },
  {
   "cell_type": "code",
   "execution_count": null,
   "metadata": {},
   "outputs": [],
   "source": [
    "class LM_withLSTM(nn.Module):\n",
    "    def __init__(self, n_words, emb_dim, outp_dim):\n",
    "        super(LM_withLSTM, self).__init__()\n",
    "        self.embeddings = nn.Embedding(n_words, emb_dim)\n",
    "        self.LSTM = nn.LSTM(emb_dim, outp_dim, batch_first=True)\n",
    "        self.predict_word = nn.Linear(outp_dim, n_words)\n",
    "    \n",
    "    def forward(self, seq):\n",
    "        embedded_seq = self.embeddings(seq)\n",
    "        timestep_reprentation, *_ = self.LSTM(embedded_seq)\n",
    "        predicted_words = self.predict_word(timestep_reprentation)\n",
    "        \n",
    "        return predicted_words"
   ]
  },
  {
   "cell_type": "code",
   "execution_count": null,
   "metadata": {
    "scrolled": true
   },
   "outputs": [],
   "source": [
    "import torch.optim as optim\n",
    "# load data\n",
    "#dataset, vocab = get_data(batch_size = lm_hyperparameters[\"batch_size\"])\n",
    "dataset, vocab = get_data()\n",
    "\n",
    "# build model and construct loss/optimizer\n",
    "lm_model = LM_withLSTM(len(vocab), \n",
    "                       lm_hyperparameters['embedding_dim'],\n",
    "                       lm_hyperparameters['output_dim'])\n",
    "lm_model.to(device)\n",
    "\n",
    "loss_fn = nn.CrossEntropyLoss()\n",
    "optimizer = optim.Adam(lm_model.parameters(), lr=lm_hyperparameters['learning_rate'])\n",
    "#here cbow model was provided . i changed to lm model ----\n",
    "\n",
    "# start training loop\n",
    "total_loss = 0\n",
    "for epoch in range(lm_hyperparameters['epochs']):\n",
    "    for i, batch in enumerate(dataset):\n",
    "        \n",
    "        # the strucure for each BATCH is:\n",
    "        # <start>, w0, ..., wn, <end>\n",
    "        sentence = batch.sentence\n",
    "        #print(sentence)\n",
    "        \n",
    "        # when training the model, at each input we predict the *NEXT* token\n",
    "        # consequently there is nothing to predict when we give the model \n",
    "        # <end> as input. \n",
    "        # thus, we do not want to give <end> as input to the model, select \n",
    "        # from each batch all tokens except the last. \n",
    "        # tip: use pytorch indexing/slicing (same as numpy) \n",
    "        # (https://pytorch.org/tutorials/beginner/basics/tensorqs_tutorial.html#operations-on-tensors)\n",
    "        # (https://jhui.github.io/2018/02/09/PyTorch-Basic-operations/)\n",
    "        input_sentence = sentence[:, :-1]\n",
    "        #print(input_sentence)\n",
    "        \n",
    "        # send your batch of sentences to the model\n",
    "        output = lm_model(input_sentence)\n",
    "        #print(output)\n",
    "        \n",
    "        # for each output, the model predict the NEXT token, so we have to reshape \n",
    "        # our dataset again. On timestep t, we evaluate on token t+1. That is,\n",
    "        # we never predict the <start> token ;) so this time, we select all but the first \n",
    "        # token from sentences (that is, all the tokens that we predict)\n",
    "        gold_data = sentence[:, 1:]\n",
    "        #print(gold_data)\n",
    "        \n",
    "        #BUILDING ONE-HOT VECTORS\n",
    "        hot_gold=torch.zeros(gold_data.shape[0], len(vocab), dtype=torch.long)\n",
    "        for i in range(gold_data.shape[0]):\n",
    "            for j in gold_data[i]:\n",
    "                hot_gold[i][j]+=1\n",
    "        \n",
    "        # the shape of the output and sentence variable need to be changed,\n",
    "        # for the loss function. Details are in the documentation.\n",
    "        # You can use .view(...,...) to reshape the tensors  \n",
    "        loss = loss_fn(output, hot_gold)\n",
    "        #print(loss)\n",
    "        total_loss += loss.item()\n",
    "        \n",
    "        print(total_loss/(i+1), end='\\r') \n",
    "        \n",
    "        # print average loss for the epoch\n",
    "        #print(total_loss/(i+1), end='\\r') \n",
    "      \n",
    "        # compute gradients\n",
    "        loss.backward()\n",
    "        \n",
    "        # update parameters\n",
    "        optimizer.step()\n",
    "        \n",
    "        # reset gradients\n",
    "        optimizer.zero_grad\n",
    "        \n",
    "        #break\n",
    "        \n",
    "    print()"
   ]
  },
  {
   "cell_type": "code",
   "execution_count": null,
   "metadata": {
    "scrolled": true
   },
   "outputs": [],
   "source": [
    "#FOR SAVING MODEL\n",
    "PATH = \"models/my_LSTMmodel.pt\"\n",
    "torch.save(lm_model, PATH)"
   ]
  },
  {
   "cell_type": "code",
   "execution_count": null,
   "metadata": {},
   "outputs": [],
   "source": [
    "#FOR LOADING MODEL\n",
    "my_lm_model = torch.load(PATH)\n",
    "my_lm_model.eval()"
   ]
  },
  {
   "cell_type": "markdown",
   "metadata": {},
   "source": [
    "### Evaluating the language model\n",
    "\n",
    "We'll evaluate our model using the BLiMP dataset (https://github.com/alexwarstadt/blimp). The BLiMP dataset contains sets of linguistic minimal pairs for various syntactic and semantic phenomena, We'll evaluate our model on *existential quantifiers* (link: https://github.com/alexwarstadt/blimp/blob/master/data/existential_there_quantifiers_1.jsonl). This data, as the name suggests, investigate whether language models assign higher probability to *correct* usage of there-quantifiers. \n",
    "\n",
    "An example entry in the dataset is: \n",
    "\n",
    "```\n",
    "{\"sentence_good\": \"There was a documentary about music irritating Allison.\", \"sentence_bad\": \"There was each documentary about music irritating Allison.\", \"field\": \"semantics\", \"linguistics_term\": \"quantifiers\", \"UID\": \"existential_there_quantifiers_1\", \"simple_LM_method\": true, \"one_prefix_method\": false, \"two_prefix_method\": false, \"lexically_identical\": false, \"pairID\": \"0\"}\n",
    "```\n",
    "\n",
    "Download the dataset and build a datareader (similar to what you did for word2vec). The dataset structure you should aim for is (you don't need to worry about the other keys for this assignment):\n",
    "\n",
    "```\n",
    "good_sentence_1, bad_sentence_1\n",
    "...\n",
    "```\n",
    "\n",
    "your task now is to compare the probability assigned to the good sentence with to the probability assigned to the bad sentence. To compute a probability for a sentence we consider the product of the probabilities assigned to the *gold* tokens, remember, at timestep ```t``` we're predicting which token comes *next* e.g. ```t+1``` (basically, you do the same thing as you did when training).\n",
    "\n",
    "In rough pseudo code what your code should do is:\n",
    "\n",
    "```\n",
    "accuracy = []\n",
    "for good_sentence, bad_sentence in dataset:\n",
    "    gs_lm_output = LanguageModel(good_sentence)\n",
    "    gs_token_probabilities = softmax(gs_lm_output)\n",
    "    gs_sentence_probability = product(gs_token_probabilities[GOLD_TOKENS])\n",
    "\n",
    "    bs_lm_output = LanguageModel(bad_sentence)\n",
    "    bs_token_probabilities = softmax(bs_lm_output)\n",
    "    bs_sentence_probability = product(bs_token_probabilities[GOLD_TOKENS])\n",
    "\n",
    "    # int(True) = 1 and int(False) = 0\n",
    "    is_correct = int(gs_sentence_probability > bs_sentence_probability)\n",
    "    accuracy.append(is_correct)\n",
    "\n",
    "print(numpy.mean(accuracy))\n",
    "    \n",
    "```\n",
    "\n",
    "[6 marks]"
   ]
  },
  {
   "cell_type": "code",
   "execution_count": null,
   "metadata": {},
   "outputs": [],
   "source": [
    "# your code goes here\n",
    "\n",
    "import json\n",
    "\n",
    "def evaluate_model(path, vocab, model):\n",
    "    \n",
    "    accuracy = []\n",
    "    with open(path) as f:\n",
    "        # iterate over one pair of sentences at a time\n",
    "        for line in f:\n",
    "            # load the data\n",
    "            data = json.loads(line)\n",
    "            good_s = data['sentence_good']\n",
    "            bad_s = data['sentence_bad']\n",
    "            #print(good_s)\n",
    "            \n",
    "            # the data is tokenized as whitespace\n",
    "            tok_good_s = [token.lower().replace(\".\", \"\") for token in good_s.split()]\n",
    "            tok_bad_s = [token.lower().replace(\".\", \"\") for token in bad_s.split()]\n",
    "            #THERE IS A FULL STOP (.) ON THE LAST TOKEN WHICH WE NEED TO REMOVE\n",
    "            \n",
    "            #print(tok_good_s)\n",
    "            #print(len(tok_good_s))            \n",
    "            \n",
    "            # encode your words as integers using the vocab from the dataloader, size is (S)\n",
    "            # we use unsqueeze to create the batch dimension \n",
    "            # in this case our input is only ONE batch, so the size of the tensor becomes: \n",
    "            # (S) -> (1, S) as the model expects batches\n",
    "            enc_good_s = torch.tensor([vocab.stoi[x] for x in tok_good_s], device=device).unsqueeze(0)\n",
    "            enc_bad_s = torch.tensor([vocab.stoi[x] for x in tok_bad_s], device=device).unsqueeze(0)\n",
    "            #print(enc_good_s)\n",
    "            \n",
    "            # pass your encoded sentences to the model and predict the next tokens\n",
    "            good_s_pred = model(enc_good_s)\n",
    "            bad_s_pred = model(enc_bad_s)\n",
    "            #print(good_s_pred.shape)\n",
    "            \n",
    "            # get probabilities with softmax\n",
    "            gs_probs = F.softmax(good_s_pred[0], dim=1)\n",
    "            bs_probs = F.softmax(bad_s_pred[0], dim=1)\n",
    "            #print(\"probs:\\n\", gs_probs.shape, \"\\n\", gs_probs)\n",
    "            \n",
    "            # select the probability of the gold tokens\n",
    "            gs_sent_prob = find_token_probs(gs_probs, enc_good_s)\n",
    "            bs_sent_prob = find_token_probs(bs_probs, enc_bad_s)\n",
    "            \n",
    "            accuracy.append(int(gs_sent_prob>bs_sent_prob))\n",
    "            \n",
    "    return accuracy\n",
    "            \n",
    "def find_token_probs(model_probs, encoded_sentence):\n",
    "    prob=1\n",
    "    for counter, idx in enumerate(encoded_sentence[0]):\n",
    "        prob *= model_probs[counter][idx]\n",
    "    return prob     \n",
    "    \n",
    "path = 'eval_data/existential_there_quantifiers_1.jsonl'\n",
    "accuracy = evaluate_model(path, vocab, my_lm_model)\n",
    "\n",
    "print('Final accuracy:')\n",
    "print(np.round(np.mean(accuracy), 3))\n"
   ]
  },
  {
   "cell_type": "markdown",
   "metadata": {},
   "source": [
    "### Analysis"
   ]
  },
  {
   "cell_type": "markdown",
   "metadata": {},
   "source": [
    "Our model get some score, say, 55% correct predictions. Is this good? Suggest some *baseline* (i.e. a stupid \"model\" we hope ours is better than) we can compare the model against.\n",
    "\n",
    "[3 marks]"
   ]
  },
  {
   "cell_type": "markdown",
   "metadata": {},
   "source": [
    "**ANSWER**\n",
    "\n",
    "Really Stupid: 1/len(voc)^len(sentence)\n",
    "Shannon's ... ???"
   ]
  },
  {
   "cell_type": "markdown",
   "metadata": {},
   "source": [
    "Suggest some improvements you could make to your language model.\n",
    "\n",
    "[3 marks]"
   ]
  },
  {
   "cell_type": "markdown",
   "metadata": {},
   "source": [
    "**ANSWER**\n"
   ]
  },
  {
   "cell_type": "markdown",
   "metadata": {},
   "source": [
    "Suggest some other metrics we can use to evaluate our system\n",
    "\n",
    "[2 marks]"
   ]
  },
  {
   "cell_type": "markdown",
   "metadata": {},
   "source": [
    "**ANSWER**\n",
    "\n",
    "???perplexity"
   ]
  },
  {
   "cell_type": "markdown",
   "metadata": {},
   "source": [
    "# Literature\n",
    "\n",
    "\n",
    "Neural architectures:\n",
    "* Y. Bengio, R. Ducharme, P. Vincent, and C. Janvin. A neural probabilistic language model. (Links to an external site.) Journal of Machine Learning Research, 3(6):1137–1155, 2003. (Sections 3 and 4 are less relevant today and hence you can glance through them quickly. Instead, look at the Mikolov papers where they describe training word embeddings with the current neural network architectures.)\n",
    "* T. Mikolov, K. Chen, G. Corrado, and J. Dean. Efficient estimation of word representations in vector space. arXiv preprint arXiv:1301.3781, 2013.\n",
    "* T. Mikolov, I. Sutskever, K. Chen, G. S. Corrado, and J. Dean. Distributed representations of words and phrases and their compositionality. In Advances in neural information processing systems, pages 3111–3119, 2013.\n",
    "    \n"
   ]
  },
  {
   "cell_type": "markdown",
   "metadata": {},
   "source": [
    "Total marks: 63"
   ]
  }
 ],
 "metadata": {
  "kernelspec": {
   "display_name": "Python 3",
   "language": "python",
   "name": "python3"
  },
  "language_info": {
   "codemirror_mode": {
    "name": "ipython",
    "version": 3
   },
   "file_extension": ".py",
   "mimetype": "text/x-python",
   "name": "python",
   "nbconvert_exporter": "python",
   "pygments_lexer": "ipython3",
   "version": "3.8.5"
  }
 },
 "nbformat": 4,
 "nbformat_minor": 4
}
